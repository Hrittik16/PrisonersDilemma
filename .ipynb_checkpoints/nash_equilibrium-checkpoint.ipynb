{
 "cells": [
  {
   "cell_type": "markdown",
   "id": "67ac1e0c-1af6-4089-a513-b5091cbb2d0b",
   "metadata": {},
   "source": [
    "### Tutorial Link\n",
    "* [Game Theory concepts with application in Python using Nashpy (Part 1)](https://towardsdatascience.com/game-theory-in-python-with-nashpy-cb5dceab262c)\n",
    "* [Game Theory concepts with application in Python using axelrod (Part 2)](https://medium.com/towards-data-science/game-theory-concepts-with-application-in-python-using-axel-rod-part-2-8ae5e10e09a0)"
   ]
  },
  {
   "cell_type": "code",
   "execution_count": 1,
   "id": "e75c7523-6739-49b3-9290-86f35e4cd133",
   "metadata": {},
   "outputs": [],
   "source": [
    "import nashpy as nash\n",
    "import numpy as np"
   ]
  },
  {
   "cell_type": "code",
   "execution_count": 2,
   "id": "1d3890f4-e0c4-4dca-a44b-fbedeba286b0",
   "metadata": {},
   "outputs": [
    {
     "data": {
      "text/plain": [
       "Bi matrix game with payoff matrices:\n",
       "\n",
       "Row player:\n",
       "[[2 0]\n",
       " [4 2]]\n",
       "\n",
       "Column player:\n",
       "[[4 2]\n",
       " [2 0]]"
      ]
     },
     "execution_count": 2,
     "metadata": {},
     "output_type": "execute_result"
    }
   ],
   "source": [
    "# Create a game with payoff matrices\n",
    "A = np.array([[2, 0], [4, 2]]) # A is the row player\n",
    "B = np.array([[4, 2], [2, 0]]) # B is the column player\n",
    "game1 = nash.Game(A, B)\n",
    "game1"
   ]
  },
  {
   "cell_type": "code",
   "execution_count": 3,
   "id": "006d3d69-f084-4f2c-aec0-2cffe83c6e4d",
   "metadata": {},
   "outputs": [
    {
     "name": "stdout",
     "output_type": "stream",
     "text": [
      "(array([0., 1.]), array([1., 0.]))\n"
     ]
    },
    {
     "data": {
      "text/plain": [
       "'\\nResult: (array([0., 1.]), array([1., 0.]))\\nYou can interpret it as the best strategy for player A is to choose bottom and\\nthe best strategy for player B is to choose left.\\n'"
      ]
     },
     "execution_count": 3,
     "metadata": {},
     "output_type": "execute_result"
    }
   ],
   "source": [
    "# Finding the nash equilibrium with supportt enumeration\n",
    "equilibria = game1.support_enumeration()\n",
    "for eq in equilibria:\n",
    "    print(eq)\n",
    "\n",
    "'''\n",
    "Result: (array([0., 1.]), array([1., 0.]))\n",
    "You can interpret it as the best strategy for player A is to choose bottom and\n",
    "the best strategy for player B is to choose left.\n",
    "'''"
   ]
  },
  {
   "cell_type": "code",
   "execution_count": 4,
   "id": "0f25f888-aabd-4e11-a30b-387a857fc1b0",
   "metadata": {},
   "outputs": [
    {
     "data": {
      "text/plain": [
       "Bi matrix game with payoff matrices:\n",
       "\n",
       "Row player:\n",
       "[[4 0]\n",
       " [0 2]]\n",
       "\n",
       "Column player:\n",
       "[[2 0]\n",
       " [0 4]]"
      ]
     },
     "execution_count": 4,
     "metadata": {},
     "output_type": "execute_result"
    }
   ],
   "source": [
    "# Game 2\n",
    "A = np.array([[4, 0], [0, 2]])\n",
    "B = np.array([[2, 0], [0, 4]])\n",
    "game2 = nash.Game(A, B)\n",
    "game2"
   ]
  },
  {
   "cell_type": "code",
   "execution_count": 5,
   "id": "ea9f544a-559c-4d76-a963-48d843da2726",
   "metadata": {},
   "outputs": [
    {
     "name": "stdout",
     "output_type": "stream",
     "text": [
      "(array([1., 0.]), array([1., 0.]))\n",
      "(array([0., 1.]), array([0., 1.]))\n",
      "(array([0.66666667, 0.33333333]), array([0.33333333, 0.66666667]))\n"
     ]
    },
    {
     "data": {
      "text/plain": [
       "'\\n(array([0.66666667, 0.33333333]), array([0.33333333, 0.66666667])) is a \\nmixed strategy nash equilibrium.\\nThe top two are pure strategy nash equilibriums.\\n'"
      ]
     },
     "execution_count": 5,
     "metadata": {},
     "output_type": "execute_result"
    }
   ],
   "source": [
    "# Finding the nash equilibrium for game 2\n",
    "equilibria2 = game2.support_enumeration()\n",
    "for eq in equilibria2:\n",
    "    print(eq)\n",
    "\n",
    "'''\n",
    "(array([0.66666667, 0.33333333]), array([0.33333333, 0.66666667])) is a \n",
    "mixed strategy nash equilibrium.\n",
    "The top two are pure strategy nash equilibriums.\n",
    "'''"
   ]
  },
  {
   "cell_type": "code",
   "execution_count": 6,
   "id": "ae5ce30f-b01f-4673-9d80-02f8ca927f39",
   "metadata": {},
   "outputs": [
    {
     "data": {
      "text/plain": [
       "array([1.3266, 1.3266])"
      ]
     },
     "execution_count": 6,
     "metadata": {},
     "output_type": "execute_result"
    }
   ],
   "source": [
    "# Calculating utilities for player A and B\n",
    "sigma_r = np.array([.67, .33])\n",
    "sigma_c = np.array([.33, .67])\n",
    "game2[sigma_r, sigma_c]"
   ]
  },
  {
   "cell_type": "code",
   "execution_count": 7,
   "id": "dac66f71-616a-4421-9ccd-6cf169082343",
   "metadata": {},
   "outputs": [],
   "source": [
    "import axelrod as axl"
   ]
  },
  {
   "cell_type": "code",
   "execution_count": 8,
   "id": "7c57a04d-da79-4304-94bf-9b6d60e42e5a",
   "metadata": {},
   "outputs": [
    {
     "data": {
      "text/plain": [
       "240"
      ]
     },
     "execution_count": 8,
     "metadata": {},
     "output_type": "execute_result"
    }
   ],
   "source": [
    "len(axl.strategies)"
   ]
  },
  {
   "cell_type": "code",
   "execution_count": 57,
   "id": "c2b880f4-2809-4fa1-aa58-15dc6786f20a",
   "metadata": {},
   "outputs": [
    {
     "data": {
      "text/plain": [
       "[(C, D),\n",
       " (D, C),\n",
       " (C, D),\n",
       " (D, D),\n",
       " (D, C),\n",
       " (C, D),\n",
       " (D, D),\n",
       " (D, D),\n",
       " (D, D),\n",
       " (D, D),\n",
       " (D, C),\n",
       " (C, C),\n",
       " (C, D),\n",
       " (D, D),\n",
       " (D, D),\n",
       " (D, C),\n",
       " (C, D),\n",
       " (D, C),\n",
       " (C, C),\n",
       " (C, C)]"
      ]
     },
     "execution_count": 57,
     "metadata": {},
     "output_type": "execute_result"
    }
   ],
   "source": [
    "# Tit for Tat vs Random Player\n",
    "players = (axl.TitForTat(), axl.Random())\n",
    "match = axl.Match(players, turns=20)\n",
    "match.play()"
   ]
  },
  {
   "cell_type": "code",
   "execution_count": 58,
   "id": "ce144334-0d34-4708-a256-710c243d7d06",
   "metadata": {},
   "outputs": [
    {
     "name": "stdout",
     "output_type": "stream",
     "text": [
      "0 5\n",
      "5 0\n",
      "0 5\n",
      "1 1\n",
      "5 0\n",
      "0 5\n",
      "1 1\n",
      "1 1\n",
      "1 1\n",
      "1 1\n",
      "5 0\n",
      "3 3\n",
      "0 5\n",
      "1 1\n",
      "1 1\n",
      "5 0\n",
      "0 5\n",
      "5 0\n",
      "3 3\n",
      "3 3\n",
      "Tit For Tat = 41\n",
      "Random Player = 41\n"
     ]
    }
   ],
   "source": [
    "# Payoffs\n",
    "total_payoff_titfortat = 0\n",
    "total_payoff_random_player = 0\n",
    "for i in match.scores():\n",
    "    a, b = i\n",
    "    total_payoff_titfortat += a\n",
    "    total_payoff_random_player += b\n",
    "    print(a, b)\n",
    "print(f\"Tit For Tat = {total_payoff_titfortat}\")\n",
    "print(f\"Random Player = {total_payoff_random_player}\")"
   ]
  },
  {
   "cell_type": "code",
   "execution_count": 59,
   "id": "4dcc26d2-fc75-417c-9d87-8edeb5e3c975",
   "metadata": {},
   "outputs": [
    {
     "name": "stdout",
     "output_type": "stream",
     "text": [
      "█ █  █     ██   █ ██\n",
      " █  █     ██   █ ███\n"
     ]
    }
   ],
   "source": [
    "print(match.sparklines())"
   ]
  },
  {
   "cell_type": "code",
   "execution_count": 77,
   "id": "6669dfe6-e54a-41fd-b4ad-4ae6df61acd3",
   "metadata": {},
   "outputs": [
    {
     "data": {
      "text/plain": [
       "[(C, C),\n",
       " (C, C),\n",
       " (C, C),\n",
       " (C, C),\n",
       " (C, C),\n",
       " (C, C),\n",
       " (C, D),\n",
       " (D, D),\n",
       " (D, D),\n",
       " (D, D),\n",
       " (D, D),\n",
       " (D, C),\n",
       " (C, C),\n",
       " (C, C),\n",
       " (C, C),\n",
       " (C, C),\n",
       " (C, C),\n",
       " (C, C),\n",
       " (C, C),\n",
       " (C, C)]"
      ]
     },
     "execution_count": 77,
     "metadata": {},
     "output_type": "execute_result"
    }
   ],
   "source": [
    "# Tit for Tat vs Adaptive\n",
    "players2 = (axl.TitForTat(), axl.Adaptive())\n",
    "match2 = axl.Match(players2, turns=20)\n",
    "match2.play()"
   ]
  },
  {
   "cell_type": "code",
   "execution_count": 78,
   "id": "1a581157-eec3-4b31-bbd7-c3b74913ed15",
   "metadata": {},
   "outputs": [
    {
     "name": "stdout",
     "output_type": "stream",
     "text": [
      "Tit For Tat = 51\n",
      "Adaptive = 51\n"
     ]
    }
   ],
   "source": [
    "# Payoffs\n",
    "titfortat_payoff = 0\n",
    "adaptive_payoff = 0\n",
    "for i in match2.scores():\n",
    "    a, b = i\n",
    "    titfortat_payoff += a\n",
    "    adaptive_payoff += b\n",
    "print(f\"Tit For Tat = {titfortat_payoff}\")\n",
    "print(f\"Adaptive = {adaptive_payoff}\")"
   ]
  },
  {
   "cell_type": "code",
   "execution_count": null,
   "id": "869dcdc0-868d-4528-8502-5f053d634aaa",
   "metadata": {},
   "outputs": [],
   "source": []
  }
 ],
 "metadata": {
  "kernelspec": {
   "display_name": "Python 3 (ipykernel)",
   "language": "python",
   "name": "python3"
  },
  "language_info": {
   "codemirror_mode": {
    "name": "ipython",
    "version": 3
   },
   "file_extension": ".py",
   "mimetype": "text/x-python",
   "name": "python",
   "nbconvert_exporter": "python",
   "pygments_lexer": "ipython3",
   "version": "3.12.5"
  }
 },
 "nbformat": 4,
 "nbformat_minor": 5
}
